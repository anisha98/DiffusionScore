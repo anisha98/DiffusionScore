{
  "nbformat": 4,
  "nbformat_minor": 0,
  "metadata": {
    "colab": {
      "name": "Execution of 1 article(presented in paper).ipynb",
      "provenance": [],
      "collapsed_sections": [],
      "toc_visible": true,
      "include_colab_link": true
    },
    "kernelspec": {
      "display_name": "Python 2",
      "language": "python",
      "name": "python2"
    },
    "language_info": {
      "codemirror_mode": {
        "name": "ipython",
        "version": 2
      },
      "file_extension": ".py",
      "mimetype": "text/x-python",
      "name": "python",
      "nbconvert_exporter": "python",
      "pygments_lexer": "ipython2",
      "version": "2.7.16"
    }
  },
  "cells": [
    {
      "cell_type": "markdown",
      "metadata": {
        "id": "view-in-github",
        "colab_type": "text"
      },
      "source": [
        "<a href=\"https://colab.research.google.com/github/anisha98/DiffusionScore/blob/main/Execution_of_1_article(presented_in_paper).ipynb\" target=\"_parent\"><img src=\"https://colab.research.google.com/assets/colab-badge.svg\" alt=\"Open In Colab\"/></a>"
      ]
    },
    {
      "cell_type": "code",
      "metadata": {
        "colab": {
          "base_uri": "https://localhost:8080/"
        },
        "id": "3qWCeV5rcSVG",
        "outputId": "076a3457-7d7e-4874-c851-225e0f74eca2"
      },
      "source": [
        "!unzip /content/2123925574.zip"
      ],
      "execution_count": null,
      "outputs": [
        {
          "output_type": "stream",
          "text": [
            "unzip:  cannot find or open /content/2123925574.zip, /content/2123925574.zip.zip or /content/2123925574.zip.ZIP.\n"
          ],
          "name": "stdout"
        }
      ]
    },
    {
      "cell_type": "code",
      "metadata": {
        "id": "QC2rvEYIaak2"
      },
      "source": [
        "import math\n",
        "import queue\n",
        "import numpy as np\n",
        "import pandas as pd\n",
        "import matplotlib.pyplot as plt\n",
        "import os"
      ],
      "execution_count": 1,
      "outputs": []
    },
    {
      "cell_type": "markdown",
      "metadata": {
        "id": "IQlsZTgaeifl"
      },
      "source": [
        ""
      ]
    },
    {
      "cell_type": "markdown",
      "metadata": {
        "id": "mhB9KI8Taak7"
      },
      "source": [
        "# To read the data "
      ]
    },
    {
      "cell_type": "code",
      "metadata": {
        "colab": {
          "base_uri": "https://localhost:8080/",
          "height": 215
        },
        "id": "FBcDoMTHaak8",
        "outputId": "878d83a7-1aea-4d71-dc91-7cf76760a823"
      },
      "source": [
        "data = pd.read_csv(\"/content/2050230532.csv\") # Read the csv file\n",
        "data.head()"
      ],
      "execution_count": 2,
      "outputs": [
        {
          "output_type": "execute_result",
          "data": {
            "text/plain": [
              "     Unnamed: 0  2620050178.0  2742205700.0  2050230532.0  2478582605.0  \\\n",
              "0  2.620050e+09           0.0           0.0           0.0           0.0   \n",
              "1  2.742206e+09           0.0           0.0           0.0           0.0   \n",
              "2  2.050231e+09           0.0           0.0           0.0           1.0   \n",
              "3  2.478583e+09           0.0           0.0           0.0           0.0   \n",
              "4  2.024523e+09           0.0           0.0           0.0           0.0   \n",
              "\n",
              "   2024523156.0  1965585172.0  2755946900.0  2795767639.0  2518937691.0  \\\n",
              "0           0.0           0.0           0.0           0.0           0.0   \n",
              "1           0.0           0.0           0.0           0.0           0.0   \n",
              "2           1.0           0.0           0.0           0.0           0.0   \n",
              "3           0.0           0.0           0.0           0.0           0.0   \n",
              "4           0.0           0.0           0.0           0.0           0.0   \n",
              "\n",
              "   2155777124.0  1969877606.0  2091066410.0  2894702700.0  2559684211.0  \\\n",
              "0           0.0           0.0           0.0           0.0           0.0   \n",
              "1           0.0           0.0           0.0           0.0           0.0   \n",
              "2           1.0           1.0           0.0           0.0           0.0   \n",
              "3           0.0           0.0           0.0           0.0           0.0   \n",
              "4           0.0           0.0           1.0           0.0           0.0   \n",
              "\n",
              "   2776888374.0  1968197118.0  \n",
              "0           0.0           0.0  \n",
              "1           0.0           0.0  \n",
              "2           0.0           1.0  \n",
              "3           0.0           0.0  \n",
              "4           0.0           0.0  "
            ],
            "text/html": [
              "<div>\n",
              "<style scoped>\n",
              "    .dataframe tbody tr th:only-of-type {\n",
              "        vertical-align: middle;\n",
              "    }\n",
              "\n",
              "    .dataframe tbody tr th {\n",
              "        vertical-align: top;\n",
              "    }\n",
              "\n",
              "    .dataframe thead th {\n",
              "        text-align: right;\n",
              "    }\n",
              "</style>\n",
              "<table border=\"1\" class=\"dataframe\">\n",
              "  <thead>\n",
              "    <tr style=\"text-align: right;\">\n",
              "      <th></th>\n",
              "      <th>Unnamed: 0</th>\n",
              "      <th>2620050178.0</th>\n",
              "      <th>2742205700.0</th>\n",
              "      <th>2050230532.0</th>\n",
              "      <th>2478582605.0</th>\n",
              "      <th>2024523156.0</th>\n",
              "      <th>1965585172.0</th>\n",
              "      <th>2755946900.0</th>\n",
              "      <th>2795767639.0</th>\n",
              "      <th>2518937691.0</th>\n",
              "      <th>2155777124.0</th>\n",
              "      <th>1969877606.0</th>\n",
              "      <th>2091066410.0</th>\n",
              "      <th>2894702700.0</th>\n",
              "      <th>2559684211.0</th>\n",
              "      <th>2776888374.0</th>\n",
              "      <th>1968197118.0</th>\n",
              "    </tr>\n",
              "  </thead>\n",
              "  <tbody>\n",
              "    <tr>\n",
              "      <th>0</th>\n",
              "      <td>2.620050e+09</td>\n",
              "      <td>0.0</td>\n",
              "      <td>0.0</td>\n",
              "      <td>0.0</td>\n",
              "      <td>0.0</td>\n",
              "      <td>0.0</td>\n",
              "      <td>0.0</td>\n",
              "      <td>0.0</td>\n",
              "      <td>0.0</td>\n",
              "      <td>0.0</td>\n",
              "      <td>0.0</td>\n",
              "      <td>0.0</td>\n",
              "      <td>0.0</td>\n",
              "      <td>0.0</td>\n",
              "      <td>0.0</td>\n",
              "      <td>0.0</td>\n",
              "      <td>0.0</td>\n",
              "    </tr>\n",
              "    <tr>\n",
              "      <th>1</th>\n",
              "      <td>2.742206e+09</td>\n",
              "      <td>0.0</td>\n",
              "      <td>0.0</td>\n",
              "      <td>0.0</td>\n",
              "      <td>0.0</td>\n",
              "      <td>0.0</td>\n",
              "      <td>0.0</td>\n",
              "      <td>0.0</td>\n",
              "      <td>0.0</td>\n",
              "      <td>0.0</td>\n",
              "      <td>0.0</td>\n",
              "      <td>0.0</td>\n",
              "      <td>0.0</td>\n",
              "      <td>0.0</td>\n",
              "      <td>0.0</td>\n",
              "      <td>0.0</td>\n",
              "      <td>0.0</td>\n",
              "    </tr>\n",
              "    <tr>\n",
              "      <th>2</th>\n",
              "      <td>2.050231e+09</td>\n",
              "      <td>0.0</td>\n",
              "      <td>0.0</td>\n",
              "      <td>0.0</td>\n",
              "      <td>1.0</td>\n",
              "      <td>1.0</td>\n",
              "      <td>0.0</td>\n",
              "      <td>0.0</td>\n",
              "      <td>0.0</td>\n",
              "      <td>0.0</td>\n",
              "      <td>1.0</td>\n",
              "      <td>1.0</td>\n",
              "      <td>0.0</td>\n",
              "      <td>0.0</td>\n",
              "      <td>0.0</td>\n",
              "      <td>0.0</td>\n",
              "      <td>1.0</td>\n",
              "    </tr>\n",
              "    <tr>\n",
              "      <th>3</th>\n",
              "      <td>2.478583e+09</td>\n",
              "      <td>0.0</td>\n",
              "      <td>0.0</td>\n",
              "      <td>0.0</td>\n",
              "      <td>0.0</td>\n",
              "      <td>0.0</td>\n",
              "      <td>0.0</td>\n",
              "      <td>0.0</td>\n",
              "      <td>0.0</td>\n",
              "      <td>0.0</td>\n",
              "      <td>0.0</td>\n",
              "      <td>0.0</td>\n",
              "      <td>0.0</td>\n",
              "      <td>0.0</td>\n",
              "      <td>0.0</td>\n",
              "      <td>0.0</td>\n",
              "      <td>0.0</td>\n",
              "    </tr>\n",
              "    <tr>\n",
              "      <th>4</th>\n",
              "      <td>2.024523e+09</td>\n",
              "      <td>0.0</td>\n",
              "      <td>0.0</td>\n",
              "      <td>0.0</td>\n",
              "      <td>0.0</td>\n",
              "      <td>0.0</td>\n",
              "      <td>0.0</td>\n",
              "      <td>0.0</td>\n",
              "      <td>0.0</td>\n",
              "      <td>0.0</td>\n",
              "      <td>0.0</td>\n",
              "      <td>0.0</td>\n",
              "      <td>1.0</td>\n",
              "      <td>0.0</td>\n",
              "      <td>0.0</td>\n",
              "      <td>0.0</td>\n",
              "      <td>0.0</td>\n",
              "    </tr>\n",
              "  </tbody>\n",
              "</table>\n",
              "</div>"
            ]
          },
          "metadata": {
            "tags": []
          },
          "execution_count": 2
        }
      ]
    },
    {
      "cell_type": "code",
      "metadata": {
        "id": "gPLIm4yYaak_",
        "colab": {
          "base_uri": "https://localhost:8080/"
        },
        "outputId": "1377e271-1a4a-4ce2-98a0-670260da04da"
      },
      "source": [
        "idx = data.index[data['Unnamed: 0'] ==2050230532] ## to obtain the source node index which is the name of the csv file\n",
        "idx.tolist()\n",
        "print(idx[0])"
      ],
      "execution_count": 3,
      "outputs": [
        {
          "output_type": "stream",
          "text": [
            "2\n"
          ],
          "name": "stdout"
        }
      ]
    },
    {
      "cell_type": "code",
      "metadata": {
        "id": "bepRokJVaalC"
      },
      "source": [
        "data = data.drop('Unnamed: 0',axis = 1) ## preprocess the data to make it into a numpy array"
      ],
      "execution_count": 4,
      "outputs": []
    },
    {
      "cell_type": "code",
      "metadata": {
        "id": "Zg4lmKgkaalF"
      },
      "source": [
        "data = data.to_numpy()"
      ],
      "execution_count": 5,
      "outputs": []
    },
    {
      "cell_type": "code",
      "metadata": {
        "colab": {
          "base_uri": "https://localhost:8080/"
        },
        "id": "mchS0CCSaalL",
        "outputId": "de2d752d-838d-4e0e-dbab-5767098e460e"
      },
      "source": [
        "N = len(data[0]) ##Total no of nodes in the matrix \n",
        "N"
      ],
      "execution_count": 7,
      "outputs": [
        {
          "output_type": "execute_result",
          "data": {
            "text/plain": [
              "16"
            ]
          },
          "metadata": {
            "tags": []
          },
          "execution_count": 7
        }
      ]
    },
    {
      "cell_type": "code",
      "metadata": {
        "colab": {
          "base_uri": "https://localhost:8080/"
        },
        "id": "NpW1zqbPaalO",
        "outputId": "810239e9-5fc7-45ba-9c32-a5f67089a0c9"
      },
      "source": [
        "data"
      ],
      "execution_count": 8,
      "outputs": [
        {
          "output_type": "execute_result",
          "data": {
            "text/plain": [
              "array([[0., 0., 0., 0., 0., 0., 0., 0., 0., 0., 0., 0., 0., 0., 0., 0.],\n",
              "       [0., 0., 0., 0., 0., 0., 0., 0., 0., 0., 0., 0., 0., 0., 0., 0.],\n",
              "       [0., 0., 0., 1., 1., 0., 0., 0., 0., 1., 1., 0., 0., 0., 0., 1.],\n",
              "       [0., 0., 0., 0., 0., 0., 0., 0., 0., 0., 0., 0., 0., 0., 0., 0.],\n",
              "       [0., 0., 0., 0., 0., 0., 0., 0., 0., 0., 0., 1., 0., 0., 0., 0.],\n",
              "       [0., 0., 0., 0., 1., 0., 0., 0., 0., 0., 0., 1., 0., 0., 0., 0.],\n",
              "       [0., 0., 0., 0., 0., 0., 0., 0., 0., 0., 0., 0., 0., 0., 0., 0.],\n",
              "       [0., 0., 0., 0., 0., 0., 0., 0., 0., 0., 0., 0., 0., 0., 0., 0.],\n",
              "       [1., 1., 0., 0., 0., 0., 0., 0., 0., 0., 0., 0., 0., 0., 0., 0.],\n",
              "       [0., 0., 0., 0., 0., 1., 0., 0., 0., 0., 0., 0., 0., 0., 0., 0.],\n",
              "       [0., 0., 0., 0., 0., 0., 0., 0., 1., 0., 0., 0., 1., 1., 0., 0.],\n",
              "       [0., 0., 0., 0., 1., 1., 0., 0., 0., 0., 0., 0., 0., 0., 0., 0.],\n",
              "       [0., 0., 0., 0., 0., 0., 0., 0., 0., 0., 0., 0., 0., 0., 0., 0.],\n",
              "       [0., 0., 0., 0., 0., 0., 0., 1., 0., 0., 0., 0., 0., 0., 1., 0.],\n",
              "       [0., 0., 0., 0., 0., 0., 0., 0., 0., 0., 0., 0., 0., 0., 0., 0.],\n",
              "       [0., 0., 0., 0., 0., 0., 1., 0., 0., 0., 1., 1., 0., 0., 0., 0.]])"
            ]
          },
          "metadata": {
            "tags": []
          },
          "execution_count": 8
        }
      ]
    },
    {
      "cell_type": "markdown",
      "metadata": {
        "id": "H2K66CmcaalQ"
      },
      "source": [
        "# Adjacency Matrix"
      ]
    },
    {
      "cell_type": "code",
      "metadata": {
        "colab": {
          "base_uri": "https://localhost:8080/"
        },
        "id": "L2da2RtNaalR",
        "outputId": "78707321-6e41-40b9-9e1f-6e7e93376932"
      },
      "source": [
        "visited = [0]*N\n",
        "stack = []\n",
        "stack_alpha = [0]*N\n",
        "adj = []\n",
        "g = data\n",
        "rows = g.shape[0]\n",
        "cols = g.shape[1]\n",
        "for x in range(0, rows):\n",
        "    l = []\n",
        "    for y in range(0, cols):\n",
        "        if(g[x,y] == 1):\n",
        "            l.append(y)\n",
        "    adj.append(l)\n",
        "print(adj)"
      ],
      "execution_count": 9,
      "outputs": [
        {
          "output_type": "stream",
          "text": [
            "[[], [], [3, 4, 9, 10, 15], [], [11], [4, 11], [], [], [0, 1], [5], [8, 12, 13], [4, 5], [], [7, 14], [], [6, 10, 11]]\n"
          ],
          "name": "stdout"
        }
      ]
    },
    {
      "cell_type": "code",
      "metadata": {
        "colab": {
          "base_uri": "https://localhost:8080/"
        },
        "id": "xGXO6ghwaalT",
        "outputId": "a7333fc2-dc65-4e9c-972d-4a69c0a8d79f"
      },
      "source": [
        "d = [i for i in range(0,N)]\n",
        "d.pop(0)\n",
        "parent = {}\n",
        "for j in d:\n",
        "    parent[j] = []\n",
        "    for i in range(len(adj)):\n",
        "        if j in adj[i]:\n",
        "          parent[j].append(i)\n",
        "parent   "
      ],
      "execution_count": 10,
      "outputs": [
        {
          "output_type": "execute_result",
          "data": {
            "text/plain": [
              "{1: [8],\n",
              " 2: [],\n",
              " 3: [2],\n",
              " 4: [2, 5, 11],\n",
              " 5: [9, 11],\n",
              " 6: [15],\n",
              " 7: [13],\n",
              " 8: [10],\n",
              " 9: [2],\n",
              " 10: [2, 15],\n",
              " 11: [4, 5, 15],\n",
              " 12: [10],\n",
              " 13: [10],\n",
              " 14: [13],\n",
              " 15: [2]}"
            ]
          },
          "metadata": {
            "tags": []
          },
          "execution_count": 10
        }
      ]
    },
    {
      "cell_type": "markdown",
      "metadata": {
        "id": "ztpMF-jiaalX"
      },
      "source": [
        "# Alpha value generated hopwise to see how we can reach all the nodes in the network from every other node in the network.This is used for calculation of the closeness centrality."
      ]
    },
    {
      "cell_type": "code",
      "metadata": {
        "id": "3JLWbCgRaalY"
      },
      "source": [
        "alpha_matrix = []\n",
        "def DFS(v,visited,stack,stack_alpha):\n",
        "    visited[v] = 1\n",
        "    stack.append(v)\n",
        "    for i in adj[v]:\n",
        "        if visited[i] == 0:\n",
        "            stack_alpha[i] = stack_alpha[v] + 1.0\n",
        "            DFS(i,visited,stack,stack_alpha)\n",
        "    #print(\"Stack_alpha\",stack_alpha)\n",
        "    return stack_alpha"
      ],
      "execution_count": 11,
      "outputs": []
    },
    {
      "cell_type": "code",
      "metadata": {
        "colab": {
          "base_uri": "https://localhost:8080/"
        },
        "id": "9Tvuyt0Saala",
        "outputId": "db9449a8-69f1-42c7-a160-70cb3ebf5330"
      },
      "source": [
        "for i in range(N):\n",
        "    initial_node = i\n",
        "    stack = []\n",
        "    stack_alpha = [0.0]*N\n",
        "    visited = [0]*N\n",
        "    stack_alpha[i] = 1.0\n",
        "    p = DFS(i,visited,stack,stack_alpha)\n",
        "    alpha_matrix.append(p)\n",
        "for i in range(N):\n",
        "    for j in range(N):\n",
        "        if(alpha_matrix[i][j] > 0.0):\n",
        "            alpha_matrix[i][j] -=1\n",
        "for i in range(N):\n",
        "    alpha_matrix[i][i] = 0.0\n",
        "print(\"Alpha_matrix\",alpha_matrix)\n",
        "\n",
        "layers = alpha_matrix"
      ],
      "execution_count": 12,
      "outputs": [
        {
          "output_type": "stream",
          "text": [
            "('Alpha_matrix', [[0.0, 0.0, 0.0, 0.0, 0.0, 0.0, 0.0, 0.0, 0.0, 0.0, 0.0, 0.0, 0.0, 0.0, 0.0, 0.0], [0.0, 0.0, 0.0, 0.0, 0.0, 0.0, 0.0, 0.0, 0.0, 0.0, 0.0, 0.0, 0.0, 0.0, 0.0, 0.0], [3.0, 3.0, 0.0, 1.0, 1.0, 3.0, 2.0, 3.0, 2.0, 1.0, 1.0, 2.0, 2.0, 2.0, 3.0, 1.0], [0.0, 0.0, 0.0, 0.0, 0.0, 0.0, 0.0, 0.0, 0.0, 0.0, 0.0, 0.0, 0.0, 0.0, 0.0, 0.0], [0.0, 0.0, 0.0, 0.0, 0.0, 2.0, 0.0, 0.0, 0.0, 0.0, 0.0, 1.0, 0.0, 0.0, 0.0, 0.0], [0.0, 0.0, 0.0, 0.0, 1.0, 0.0, 0.0, 0.0, 0.0, 0.0, 0.0, 2.0, 0.0, 0.0, 0.0, 0.0], [0.0, 0.0, 0.0, 0.0, 0.0, 0.0, 0.0, 0.0, 0.0, 0.0, 0.0, 0.0, 0.0, 0.0, 0.0, 0.0], [0.0, 0.0, 0.0, 0.0, 0.0, 0.0, 0.0, 0.0, 0.0, 0.0, 0.0, 0.0, 0.0, 0.0, 0.0, 0.0], [1.0, 1.0, 0.0, 0.0, 0.0, 0.0, 0.0, 0.0, 0.0, 0.0, 0.0, 0.0, 0.0, 0.0, 0.0, 0.0], [0.0, 0.0, 0.0, 0.0, 2.0, 1.0, 0.0, 0.0, 0.0, 0.0, 0.0, 3.0, 0.0, 0.0, 0.0, 0.0], [2.0, 2.0, 0.0, 0.0, 0.0, 0.0, 0.0, 2.0, 1.0, 0.0, 0.0, 0.0, 1.0, 1.0, 2.0, 0.0], [0.0, 0.0, 0.0, 0.0, 1.0, 1.0, 0.0, 0.0, 0.0, 0.0, 0.0, 0.0, 0.0, 0.0, 0.0, 0.0], [0.0, 0.0, 0.0, 0.0, 0.0, 0.0, 0.0, 0.0, 0.0, 0.0, 0.0, 0.0, 0.0, 0.0, 0.0, 0.0], [0.0, 0.0, 0.0, 0.0, 0.0, 0.0, 0.0, 1.0, 0.0, 0.0, 0.0, 0.0, 0.0, 0.0, 1.0, 0.0], [0.0, 0.0, 0.0, 0.0, 0.0, 0.0, 0.0, 0.0, 0.0, 0.0, 0.0, 0.0, 0.0, 0.0, 0.0, 0.0], [3.0, 3.0, 0.0, 0.0, 2.0, 2.0, 1.0, 3.0, 2.0, 0.0, 1.0, 1.0, 2.0, 2.0, 3.0, 0.0]])\n"
          ],
          "name": "stdout"
        }
      ]
    },
    {
      "cell_type": "markdown",
      "metadata": {
        "id": "QZ3KXKvdaald"
      },
      "source": [
        "# Closeness Matrix\n"
      ]
    },
    {
      "cell_type": "code",
      "metadata": {
        "colab": {
          "base_uri": "https://localhost:8080/"
        },
        "id": "yQmGpUyuaald",
        "outputId": "2fbb6fa0-17ae-41aa-c9fc-0a52925ecbfc"
      },
      "source": [
        "c = np.zeros(shape=(N,1))\n",
        "for i in range(N):\n",
        "    sum_dist = 0\n",
        "    for j in range(N):\n",
        "        if(alpha_matrix[i][j] >0):\n",
        "            sum_dist += 1\n",
        "    c[i,0] = sum_dist\n",
        "c\n",
        "#c = np.array([[1.0],[1.0],[0.0]])"
      ],
      "execution_count": 13,
      "outputs": [
        {
          "output_type": "execute_result",
          "data": {
            "text/plain": [
              "array([[ 0.],\n",
              "       [ 0.],\n",
              "       [15.],\n",
              "       [ 0.],\n",
              "       [ 2.],\n",
              "       [ 2.],\n",
              "       [ 0.],\n",
              "       [ 0.],\n",
              "       [ 2.],\n",
              "       [ 3.],\n",
              "       [ 7.],\n",
              "       [ 2.],\n",
              "       [ 0.],\n",
              "       [ 2.],\n",
              "       [ 0.],\n",
              "       [12.]])"
            ]
          },
          "metadata": {
            "tags": []
          },
          "execution_count": 13
        }
      ]
    },
    {
      "cell_type": "markdown",
      "metadata": {
        "id": "EyLQc4hyaalf"
      },
      "source": [
        "# Degree Matrix\n"
      ]
    },
    {
      "cell_type": "code",
      "metadata": {
        "colab": {
          "base_uri": "https://localhost:8080/"
        },
        "id": "2mcSRo_-aalg",
        "outputId": "c8b06a5a-198b-4178-9c7f-5d03eaa8167c"
      },
      "source": [
        "H = np.zeros(shape=(N,N))\n",
        "row = H.shape[0]\n",
        "col = H.shape[1]\n",
        "d = np.zeros(shape=(N,1)) #degree of the graph\n",
        "din = np.zeros(shape=(N,1))\n",
        "dout = np.zeros(shape=(N,1))\n",
        "g = data\n",
        "#count = -10\n",
        "for y in range(0,row):\n",
        "    p = g[y] == np.array([0]*N)\n",
        "    equal = p.all()\n",
        "    for x in range(0,col):\n",
        "        dout[y,0] -= g[y,x] #outgoing nodes\n",
        "        din[y,0] += g[x,y] #ingoing nodes   \n",
        "    d[y,0] = din[y,0] + dout[y,0]\n",
        "print(d)"
      ],
      "execution_count": 14,
      "outputs": [
        {
          "output_type": "stream",
          "text": [
            "[[ 1.]\n",
            " [ 1.]\n",
            " [-5.]\n",
            " [ 1.]\n",
            " [ 2.]\n",
            " [ 0.]\n",
            " [ 1.]\n",
            " [ 1.]\n",
            " [-1.]\n",
            " [ 0.]\n",
            " [-1.]\n",
            " [ 1.]\n",
            " [ 1.]\n",
            " [-1.]\n",
            " [ 1.]\n",
            " [-2.]]\n"
          ],
          "name": "stdout"
        }
      ]
    },
    {
      "cell_type": "code",
      "metadata": {
        "colab": {
          "base_uri": "https://localhost:8080/"
        },
        "id": "9mUxfobiaali",
        "outputId": "e1f68736-e806-4741-8590-06062563e4e7"
      },
      "source": [
        "for i in range(N):\n",
        "    if(c[i,0] == 0):\n",
        "        c[i,0] = 1\n",
        "print(c)"
      ],
      "execution_count": 15,
      "outputs": [
        {
          "output_type": "stream",
          "text": [
            "[[ 1.]\n",
            " [ 1.]\n",
            " [15.]\n",
            " [ 1.]\n",
            " [ 2.]\n",
            " [ 2.]\n",
            " [ 1.]\n",
            " [ 1.]\n",
            " [ 2.]\n",
            " [ 3.]\n",
            " [ 7.]\n",
            " [ 2.]\n",
            " [ 1.]\n",
            " [ 2.]\n",
            " [ 1.]\n",
            " [12.]]\n"
          ],
          "name": "stdout"
        }
      ]
    },
    {
      "cell_type": "markdown",
      "metadata": {
        "id": "1EtF7y4Waalk"
      },
      "source": [
        "\n",
        "# Putting together the concept of degree,closeness centrality and distance of a node from the source node.We come up with a parameter(heat_alpha) we can feed into the heat kernel"
      ]
    },
    {
      "cell_type": "code",
      "metadata": {
        "id": "TnsoEQ4gaall"
      },
      "source": [
        "alpha_matrix = []\n",
        "def DFS(v,visited,stack,stack_alpha):\n",
        "    visited[v] = 1\n",
        "    stack.append(v)\n",
        "    #print(\"Visited\",v)\n",
        "    #print(\"Stack\",stack)\n",
        "    for i in adj[v]:\n",
        "        #print(\"Current\",i)\n",
        "        if visited[i] == 0:\n",
        "            stack_alpha[i] = stack_alpha[v] -d[i,0]/N + c[i,0]/N\n",
        "            DFS(i,visited,stack,stack_alpha)\n",
        "    #print(\"Stack_alpha\",stack_alpha)\n",
        "    return stack_alpha"
      ],
      "execution_count": 16,
      "outputs": []
    },
    {
      "cell_type": "code",
      "metadata": {
        "colab": {
          "base_uri": "https://localhost:8080/"
        },
        "id": "kHiY7Dwwaaln",
        "outputId": "452c0bc0-0e28-4deb-9b81-0d27ce4b9799"
      },
      "source": [
        "for i in range(N):\n",
        "    initial_node = i\n",
        "    stack = []\n",
        "    stack_alpha = [0.0]*N\n",
        "    visited = [0]*N\n",
        "    stack_alpha[i] = 1.0\n",
        "    p = DFS(i,visited,stack,stack_alpha)\n",
        "    alpha_matrix.append(p)\n",
        "#pl = [3,2,2,1,2,1]\n",
        "# for i in range(N):\n",
        "#     alpha_matrix[i][i] = -1.0\n",
        "alpha_matrix"
      ],
      "execution_count": 17,
      "outputs": [
        {
          "output_type": "execute_result",
          "data": {
            "text/plain": [
              "[[1.0,\n",
              "  0.0,\n",
              "  0.0,\n",
              "  0.0,\n",
              "  0.0,\n",
              "  0.0,\n",
              "  0.0,\n",
              "  0.0,\n",
              "  0.0,\n",
              "  0.0,\n",
              "  0.0,\n",
              "  0.0,\n",
              "  0.0,\n",
              "  0.0,\n",
              "  0.0,\n",
              "  0.0],\n",
              " [0.0,\n",
              "  1.0,\n",
              "  0.0,\n",
              "  0.0,\n",
              "  0.0,\n",
              "  0.0,\n",
              "  0.0,\n",
              "  0.0,\n",
              "  0.0,\n",
              "  0.0,\n",
              "  0.0,\n",
              "  0.0,\n",
              "  0.0,\n",
              "  0.0,\n",
              "  0.0,\n",
              "  0.0],\n",
              " [1.6875,\n",
              "  1.6875,\n",
              "  1.0,\n",
              "  1.0,\n",
              "  1.0,\n",
              "  1.1875,\n",
              "  1.875,\n",
              "  1.6875,\n",
              "  1.6875,\n",
              "  1.1875,\n",
              "  1.5,\n",
              "  1.0625,\n",
              "  1.5,\n",
              "  1.6875,\n",
              "  1.6875,\n",
              "  1.875],\n",
              " [0.0,\n",
              "  0.0,\n",
              "  0.0,\n",
              "  1.0,\n",
              "  0.0,\n",
              "  0.0,\n",
              "  0.0,\n",
              "  0.0,\n",
              "  0.0,\n",
              "  0.0,\n",
              "  0.0,\n",
              "  0.0,\n",
              "  0.0,\n",
              "  0.0,\n",
              "  0.0,\n",
              "  0.0],\n",
              " [0.0,\n",
              "  0.0,\n",
              "  0.0,\n",
              "  0.0,\n",
              "  1.0,\n",
              "  1.1875,\n",
              "  0.0,\n",
              "  0.0,\n",
              "  0.0,\n",
              "  0.0,\n",
              "  0.0,\n",
              "  1.0625,\n",
              "  0.0,\n",
              "  0.0,\n",
              "  0.0,\n",
              "  0.0],\n",
              " [0.0,\n",
              "  0.0,\n",
              "  0.0,\n",
              "  0.0,\n",
              "  1.0,\n",
              "  1.0,\n",
              "  0.0,\n",
              "  0.0,\n",
              "  0.0,\n",
              "  0.0,\n",
              "  0.0,\n",
              "  1.0625,\n",
              "  0.0,\n",
              "  0.0,\n",
              "  0.0,\n",
              "  0.0],\n",
              " [0.0,\n",
              "  0.0,\n",
              "  0.0,\n",
              "  0.0,\n",
              "  0.0,\n",
              "  0.0,\n",
              "  1.0,\n",
              "  0.0,\n",
              "  0.0,\n",
              "  0.0,\n",
              "  0.0,\n",
              "  0.0,\n",
              "  0.0,\n",
              "  0.0,\n",
              "  0.0,\n",
              "  0.0],\n",
              " [0.0,\n",
              "  0.0,\n",
              "  0.0,\n",
              "  0.0,\n",
              "  0.0,\n",
              "  0.0,\n",
              "  0.0,\n",
              "  1.0,\n",
              "  0.0,\n",
              "  0.0,\n",
              "  0.0,\n",
              "  0.0,\n",
              "  0.0,\n",
              "  0.0,\n",
              "  0.0,\n",
              "  0.0],\n",
              " [1.0,\n",
              "  1.0,\n",
              "  0.0,\n",
              "  0.0,\n",
              "  0.0,\n",
              "  0.0,\n",
              "  0.0,\n",
              "  0.0,\n",
              "  1.0,\n",
              "  0.0,\n",
              "  0.0,\n",
              "  0.0,\n",
              "  0.0,\n",
              "  0.0,\n",
              "  0.0,\n",
              "  0.0],\n",
              " [0.0,\n",
              "  0.0,\n",
              "  0.0,\n",
              "  0.0,\n",
              "  1.125,\n",
              "  1.125,\n",
              "  0.0,\n",
              "  0.0,\n",
              "  0.0,\n",
              "  1.0,\n",
              "  0.0,\n",
              "  1.1875,\n",
              "  0.0,\n",
              "  0.0,\n",
              "  0.0,\n",
              "  0.0],\n",
              " [1.1875,\n",
              "  1.1875,\n",
              "  0.0,\n",
              "  0.0,\n",
              "  0.0,\n",
              "  0.0,\n",
              "  0.0,\n",
              "  1.1875,\n",
              "  1.1875,\n",
              "  0.0,\n",
              "  1.0,\n",
              "  0.0,\n",
              "  1.0,\n",
              "  1.1875,\n",
              "  1.1875,\n",
              "  0.0],\n",
              " [0.0,\n",
              "  0.0,\n",
              "  0.0,\n",
              "  0.0,\n",
              "  1.0,\n",
              "  1.125,\n",
              "  0.0,\n",
              "  0.0,\n",
              "  0.0,\n",
              "  0.0,\n",
              "  0.0,\n",
              "  1.0,\n",
              "  0.0,\n",
              "  0.0,\n",
              "  0.0,\n",
              "  0.0],\n",
              " [0.0,\n",
              "  0.0,\n",
              "  0.0,\n",
              "  0.0,\n",
              "  0.0,\n",
              "  0.0,\n",
              "  0.0,\n",
              "  0.0,\n",
              "  0.0,\n",
              "  0.0,\n",
              "  0.0,\n",
              "  0.0,\n",
              "  1.0,\n",
              "  0.0,\n",
              "  0.0,\n",
              "  0.0],\n",
              " [0.0,\n",
              "  0.0,\n",
              "  0.0,\n",
              "  0.0,\n",
              "  0.0,\n",
              "  0.0,\n",
              "  0.0,\n",
              "  1.0,\n",
              "  0.0,\n",
              "  0.0,\n",
              "  0.0,\n",
              "  0.0,\n",
              "  0.0,\n",
              "  1.0,\n",
              "  1.0,\n",
              "  0.0],\n",
              " [0.0,\n",
              "  0.0,\n",
              "  0.0,\n",
              "  0.0,\n",
              "  0.0,\n",
              "  0.0,\n",
              "  0.0,\n",
              "  0.0,\n",
              "  0.0,\n",
              "  0.0,\n",
              "  0.0,\n",
              "  0.0,\n",
              "  0.0,\n",
              "  0.0,\n",
              "  1.0,\n",
              "  0.0],\n",
              " [1.6875,\n",
              "  1.6875,\n",
              "  0.0,\n",
              "  0.0,\n",
              "  1.0625,\n",
              "  1.1875,\n",
              "  1.0,\n",
              "  1.6875,\n",
              "  1.6875,\n",
              "  0.0,\n",
              "  1.5,\n",
              "  1.0625,\n",
              "  1.5,\n",
              "  1.6875,\n",
              "  1.6875,\n",
              "  1.0]]"
            ]
          },
          "metadata": {
            "tags": []
          },
          "execution_count": 17
        }
      ]
    },
    {
      "cell_type": "code",
      "metadata": {
        "id": "5KOCXKnqWgB9"
      },
      "source": [
        "for i in range(N):\n",
        "  alpha_matrix[i][i] = -1.0"
      ],
      "execution_count": 18,
      "outputs": []
    },
    {
      "cell_type": "markdown",
      "metadata": {
        "id": "ZACvUz3Waalq"
      },
      "source": [
        "# Heat kernal"
      ]
    },
    {
      "cell_type": "code",
      "metadata": {
        "id": "4QDDaJL5aalq"
      },
      "source": [
        "H = np.zeros(shape=(N,N))\n",
        "row = H.shape[0]\n",
        "col = H.shape[1]\n",
        "g = data\n",
        "for x in range(0,N):\n",
        "  for y in range(0,N):  \n",
        "     if g[y,x] == 1 and alpha_matrix[y][x] != 0:\n",
        "       H[x,y]  = 1/alpha_matrix[y][x] \n",
        "     else:\n",
        "       H[x,y] = -alpha_matrix[y][x]/N\n",
        "#print(H)#heat kernel"
      ],
      "execution_count": 19,
      "outputs": []
    },
    {
      "cell_type": "code",
      "metadata": {
        "colab": {
          "base_uri": "https://localhost:8080/"
        },
        "id": "vX2ccm33aalu",
        "outputId": "7e3ed9a0-1305-40a7-dd58-50558095e91a"
      },
      "source": [
        "initial_node = idx[0]\n",
        "arr = [0.0]*N\n",
        "arr[initial_node] = 0.0758427 ## Initial heat in the source node\n",
        "initial_heat = np.array(arr) #0.0,0.0,0.0,0.0,0.0,0.0,0.0,0.0,0.0,0.0,100.0,0.0,0.0,0.0\n",
        "heat = np.dot((np.exp(H)),initial_heat)\n",
        "print(heat)"
      ],
      "execution_count": 20,
      "outputs": [
        {
          "output_type": "stream",
          "text": [
            "[0.06825104 0.06825104 0.08073413 0.20616183 0.20616183 0.07041756\n",
            " 0.06745589 0.06825104 0.06825104 0.17604977 0.14772141 0.07096985\n",
            " 0.06905556 0.06825104 0.06825104 0.12928184]\n"
          ],
          "name": "stdout"
        }
      ]
    },
    {
      "cell_type": "code",
      "metadata": {
        "colab": {
          "base_uri": "https://localhost:8080/"
        },
        "id": "ljg3hsqvM3xJ",
        "outputId": "35a8f7fb-38d3-4618-88a9-ba87ab09ab52"
      },
      "source": [
        "initial_heat"
      ],
      "execution_count": 22,
      "outputs": [
        {
          "output_type": "execute_result",
          "data": {
            "text/plain": [
              "array([0.       , 0.       , 0.0758427, 0.       , 0.       , 0.       ,\n",
              "       0.       , 0.       , 0.       , 0.       , 0.       , 0.       ,\n",
              "       0.       , 0.       , 0.       , 0.       ])"
            ]
          },
          "metadata": {
            "tags": []
          },
          "execution_count": 22
        }
      ]
    },
    {
      "cell_type": "code",
      "metadata": {
        "colab": {
          "base_uri": "https://localhost:8080/"
        },
        "id": "dhnW0genaaly",
        "outputId": "e30d7769-c8f4-4a72-9fcd-d0ef20379dc9"
      },
      "source": [
        "heat = np.dot((np.exp(H)),initial_heat)\n",
        "heat"
      ],
      "execution_count": 23,
      "outputs": [
        {
          "output_type": "execute_result",
          "data": {
            "text/plain": [
              "array([0.06825104, 0.06825104, 0.08073413, 0.20616183, 0.20616183,\n",
              "       0.07041756, 0.06745589, 0.06825104, 0.06825104, 0.17604977,\n",
              "       0.14772141, 0.07096985, 0.06905556, 0.06825104, 0.06825104,\n",
              "       0.12928184])"
            ]
          },
          "metadata": {
            "tags": []
          },
          "execution_count": 23
        }
      ]
    },
    {
      "cell_type": "code",
      "metadata": {
        "id": "eoEbQ3FHUdl2"
      },
      "source": [
        "#Needs to be copy pasted from above\n",
        "heat = np.array([0.06825104, 0.06825104, 0.08073413, 0.20616183, 0.20616183,\n",
        "       0.07041756, 0.06745589, 0.06825104, 0.06825104, 0.17604977,\n",
        "       0.14772141, 0.07096985, 0.06905556, 0.06825104, 0.06825104,\n",
        "       0.12928184])"
      ],
      "execution_count": 24,
      "outputs": []
    },
    {
      "cell_type": "code",
      "metadata": {
        "id": "ixWBZHeoaal0",
        "colab": {
          "base_uri": "https://localhost:8080/"
        },
        "outputId": "6a932342-c88a-425a-ea70-c3d0787eb8a6"
      },
      "source": [
        "heat1 = [0.0]*N\n",
        "for i in range(len(heat)):\n",
        "    print(i)\n",
        "    heat1[i] = ( (heat[i] - heat.min()) / (heat.max() - heat.min()) ) * (2 - 1) + 1\n",
        "    print(heat1[i])"
      ],
      "execution_count": 25,
      "outputs": [
        {
          "output_type": "stream",
          "text": [
            "0\n",
            "1.0057326312052677\n",
            "1\n",
            "1.0057326312052677\n",
            "2\n",
            "1.0957294258630885\n",
            "3\n",
            "2.0\n",
            "4\n",
            "2.0\n",
            "5\n",
            "1.0213521497348996\n",
            "6\n",
            "1.0\n",
            "7\n",
            "1.0057326312052677\n",
            "8\n",
            "1.0057326312052677\n",
            "9\n",
            "1.7829072064253342\n",
            "10\n",
            "1.5786739918996981\n",
            "11\n",
            "1.025333882600846\n",
            "12\n",
            "1.0115328153934864\n",
            "13\n",
            "1.0057326312052677\n",
            "14\n",
            "1.0057326312052677\n",
            "15\n",
            "1.4457339750554303\n"
          ],
          "name": "stdout"
        }
      ]
    },
    {
      "cell_type": "code",
      "metadata": {
        "colab": {
          "base_uri": "https://localhost:8080/"
        },
        "id": "CM3GgW0paal2",
        "outputId": "91620321-f8d3-423e-9ce4-5ac3a1154b1a"
      },
      "source": [
        "for i in range(len(heat1)):\n",
        "    heat1[i] = (heat1[i]/2.0) * arr[idx[0]]\n",
        "print(heat1)\n",
        "for i in range(len(heat)):\n",
        "    heat[i] = heat1[i]"
      ],
      "execution_count": 26,
      "outputs": [
        {
          "output_type": "stream",
          "text": [
            "[0.03813873911435588, 0.03813873911435588, 0.041551539063453234, 0.0758427, 0.0758427, 0.03873105234334954, 0.03792135, 0.03813873911435588, 0.03813873911435588, 0.06761024819237735, 0.05986544898272562, 0.03888204502896559, 0.038358689929021784, 0.03813873911435588, 0.03813873911435588, 0.054824184074968245]\n"
          ],
          "name": "stdout"
        }
      ]
    },
    {
      "cell_type": "code",
      "metadata": {
        "colab": {
          "base_uri": "https://localhost:8080/"
        },
        "id": "qY4DSCrPaal4",
        "outputId": "ed80a35c-e64c-4788-9760-30bb236f9477"
      },
      "source": [
        "print(heat)"
      ],
      "execution_count": 27,
      "outputs": [
        {
          "output_type": "stream",
          "text": [
            "[0.03813874 0.03813874 0.04155154 0.0758427  0.0758427  0.03873105\n",
            " 0.03792135 0.03813874 0.03813874 0.06761025 0.05986545 0.03888205\n",
            " 0.03835869 0.03813874 0.03813874 0.05482418]\n"
          ],
          "name": "stdout"
        }
      ]
    }
  ]
}