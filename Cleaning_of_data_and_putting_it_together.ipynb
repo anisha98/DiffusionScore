{
  "nbformat": 4,
  "nbformat_minor": 0,
  "metadata": {
    "kernelspec": {
      "display_name": "Python 2",
      "language": "python",
      "name": "python2"
    },
    "language_info": {
      "codemirror_mode": {
        "name": "ipython",
        "version": 2
      },
      "file_extension": ".py",
      "mimetype": "text/x-python",
      "name": "python",
      "nbconvert_exporter": "python",
      "pygments_lexer": "ipython2",
      "version": "2.7.16"
    },
    "colab": {
      "name": "Cleaning of data and putting it together.ipynb",
      "provenance": [],
      "include_colab_link": true
    }
  },
  "cells": [
    {
      "cell_type": "markdown",
      "metadata": {
        "id": "view-in-github",
        "colab_type": "text"
      },
      "source": [
        "<a href=\"https://colab.research.google.com/github/anisha98/DiffusionScore/blob/main/Cleaning_of_data_and_putting_it_together.ipynb\" target=\"_parent\"><img src=\"https://colab.research.google.com/assets/colab-badge.svg\" alt=\"Open In Colab\"/></a>"
      ]
    },
    {
      "cell_type": "code",
      "metadata": {
        "id": "77BkduWD9i3P"
      },
      "source": [
        "import pandas as pd"
      ],
      "execution_count": null,
      "outputs": []
    },
    {
      "cell_type": "code",
      "metadata": {
        "id": "g8SjxV0j9i3f"
      },
      "source": [
        "data = pd.read_csv(\"C:/Users/Anisha Khetan/Desktop/DATASET_NEW/With Snip/New/west virginia university 12_13 ML.csv\")"
      ],
      "execution_count": null,
      "outputs": []
    },
    {
      "cell_type": "code",
      "metadata": {
        "id": "57CdSIj49i3g",
        "outputId": "b9e3a9be-60dd-46f9-828d-6f462d041ab3"
      },
      "source": [
        "len(data)"
      ],
      "execution_count": null,
      "outputs": [
        {
          "output_type": "execute_result",
          "data": {
            "text/plain": [
              "21"
            ]
          },
          "metadata": {
            "tags": []
          },
          "execution_count": 4
        }
      ]
    },
    {
      "cell_type": "code",
      "metadata": {
        "id": "KNWuHTXE9i3j"
      },
      "source": [
        "data['doc_type'] = data['doc_type'].map({'Journal': 1, 'Conference': 2}) # convert Journal to 1 and Conf to 2"
      ],
      "execution_count": null,
      "outputs": []
    },
    {
      "cell_type": "code",
      "metadata": {
        "id": "vz42dvr79i3j"
      },
      "source": [
        "snip = data[data['doc_type'] == 1.0]\n",
        "h_index = data[data['doc_type'] == 2.0]"
      ],
      "execution_count": null,
      "outputs": []
    },
    {
      "cell_type": "code",
      "metadata": {
        "id": "Jir4NkrL9i3k",
        "outputId": "ddbf971d-1bf5-42a2-e3c4-9f3ff38c8e67"
      },
      "source": [
        "h_index.head()"
      ],
      "execution_count": null,
      "outputs": [
        {
          "output_type": "execute_result",
          "data": {
            "text/html": [
              "<div>\n",
              "<style scoped>\n",
              "    .dataframe tbody tr th:only-of-type {\n",
              "        vertical-align: middle;\n",
              "    }\n",
              "\n",
              "    .dataframe tbody tr th {\n",
              "        vertical-align: top;\n",
              "    }\n",
              "\n",
              "    .dataframe thead th {\n",
              "        text-align: right;\n",
              "    }\n",
              "</style>\n",
              "<table border=\"1\" class=\"dataframe\">\n",
              "  <thead>\n",
              "    <tr style=\"text-align: right;\">\n",
              "      <th></th>\n",
              "      <th>organization</th>\n",
              "      <th>title</th>\n",
              "      <th>year</th>\n",
              "      <th>snip</th>\n",
              "      <th>hindex</th>\n",
              "      <th>id</th>\n",
              "      <th>references</th>\n",
              "      <th>fos</th>\n",
              "      <th>venue</th>\n",
              "      <th>doc_type</th>\n",
              "      <th>publisher</th>\n",
              "      <th>source_and_target</th>\n",
              "      <th>meta</th>\n",
              "    </tr>\n",
              "  </thead>\n",
              "  <tbody>\n",
              "    <tr>\n",
              "      <th>1</th>\n",
              "      <td>['west virginia university', 'west virginia un...</td>\n",
              "      <td>Learning a context aware dictionary for sparse...</td>\n",
              "      <td>2012</td>\n",
              "      <td>NaN</td>\n",
              "      <td>NaN</td>\n",
              "      <td>1462692895</td>\n",
              "      <td>[1551219034, 1560380655, 1972715665, 198252276...</td>\n",
              "      <td>['artificial intelligence', 'computer vision',...</td>\n",
              "      <td>asian conference on computer vision</td>\n",
              "      <td>2</td>\n",
              "      <td>Springer, Berlin, Heidelberg</td>\n",
              "      <td>[[2756399332, 2550155684], [2892664578, 255015...</td>\n",
              "      <td>{2892664578: {'organization': ['beijing labora...</td>\n",
              "    </tr>\n",
              "    <tr>\n",
              "      <th>2</th>\n",
              "      <td>['west virginia university', 'west virginia un...</td>\n",
              "      <td>Age estimation with expression changes using m...</td>\n",
              "      <td>2013</td>\n",
              "      <td>NaN</td>\n",
              "      <td>19.0</td>\n",
              "      <td>1968426396</td>\n",
              "      <td>[2078046525, 2093238900, 2098765952, 210307778...</td>\n",
              "      <td>['linear subspace', 'emotion recognition', 'tr...</td>\n",
              "      <td>international conference on biometrics theory ...</td>\n",
              "      <td>2</td>\n",
              "      <td>IEEE</td>\n",
              "      <td>[[2493648860, 2339699509], [2887990646, 233969...</td>\n",
              "      <td>{2803096453: {'organization': ['beihang univer...</td>\n",
              "    </tr>\n",
              "    <tr>\n",
              "      <th>3</th>\n",
              "      <td>['west virginia university', 'west virginia un...</td>\n",
              "      <td>Software defect prediction using semi-supervis...</td>\n",
              "      <td>2012</td>\n",
              "      <td>NaN</td>\n",
              "      <td>55.0</td>\n",
              "      <td>1979360936</td>\n",
              "      <td>[1680549972, 2026046013, 2101210369, 210936206...</td>\n",
              "      <td>['semi-supervised learning', 'software bug', '...</td>\n",
              "      <td>automated software engineering</td>\n",
              "      <td>2</td>\n",
              "      <td>ACM</td>\n",
              "      <td>[[2738182386, 2591882872], [2591882872, 253569...</td>\n",
              "      <td>{2884709376: {'organization': ['school of reli...</td>\n",
              "    </tr>\n",
              "    <tr>\n",
              "      <th>5</th>\n",
              "      <td>['west virginia university', 'west virginia un...</td>\n",
              "      <td>Learning to change projects</td>\n",
              "      <td>2012</td>\n",
              "      <td>NaN</td>\n",
              "      <td>NaN</td>\n",
              "      <td>1999564642</td>\n",
              "      <td>[51669927, 1492327544, 1695350145, 2007793991,...</td>\n",
              "      <td>['row', 'visualization', 'data mining', 'machi...</td>\n",
              "      <td>predictive models in software engineering</td>\n",
              "      <td>2</td>\n",
              "      <td>ACM</td>\n",
              "      <td>[[2295378525, 1999564642], [2696458276, 176197...</td>\n",
              "      <td>{2696458276: {'organization': ['department of ...</td>\n",
              "    </tr>\n",
              "    <tr>\n",
              "      <th>6</th>\n",
              "      <td>['university of basilicata, basilicata, italy'...</td>\n",
              "      <td>Class level fault prediction using software cl...</td>\n",
              "      <td>2013</td>\n",
              "      <td>NaN</td>\n",
              "      <td>21.0</td>\n",
              "      <td>2000400110</td>\n",
              "      <td>[20379382, 165633843, 1935937925, 1975040830, ...</td>\n",
              "      <td>['machine learning', 'theoretical computer sci...</td>\n",
              "      <td>automated software engineering</td>\n",
              "      <td>2</td>\n",
              "      <td>IEEE</td>\n",
              "      <td>[[2027204548, 2000400110], [2032558339, 200040...</td>\n",
              "      <td>{2883977858: {'organization': ['george washing...</td>\n",
              "    </tr>\n",
              "  </tbody>\n",
              "</table>\n",
              "</div>"
            ],
            "text/plain": [
              "                                        organization  \\\n",
              "1  ['west virginia university', 'west virginia un...   \n",
              "2  ['west virginia university', 'west virginia un...   \n",
              "3  ['west virginia university', 'west virginia un...   \n",
              "5  ['west virginia university', 'west virginia un...   \n",
              "6  ['university of basilicata, basilicata, italy'...   \n",
              "\n",
              "                                               title  year  snip  hindex  \\\n",
              "1  Learning a context aware dictionary for sparse...  2012   NaN     NaN   \n",
              "2  Age estimation with expression changes using m...  2013   NaN    19.0   \n",
              "3  Software defect prediction using semi-supervis...  2012   NaN    55.0   \n",
              "5                        Learning to change projects  2012   NaN     NaN   \n",
              "6  Class level fault prediction using software cl...  2013   NaN    21.0   \n",
              "\n",
              "           id                                         references  \\\n",
              "1  1462692895  [1551219034, 1560380655, 1972715665, 198252276...   \n",
              "2  1968426396  [2078046525, 2093238900, 2098765952, 210307778...   \n",
              "3  1979360936  [1680549972, 2026046013, 2101210369, 210936206...   \n",
              "5  1999564642  [51669927, 1492327544, 1695350145, 2007793991,...   \n",
              "6  2000400110  [20379382, 165633843, 1935937925, 1975040830, ...   \n",
              "\n",
              "                                                 fos  \\\n",
              "1  ['artificial intelligence', 'computer vision',...   \n",
              "2  ['linear subspace', 'emotion recognition', 'tr...   \n",
              "3  ['semi-supervised learning', 'software bug', '...   \n",
              "5  ['row', 'visualization', 'data mining', 'machi...   \n",
              "6  ['machine learning', 'theoretical computer sci...   \n",
              "\n",
              "                                               venue  doc_type  \\\n",
              "1                asian conference on computer vision         2   \n",
              "2  international conference on biometrics theory ...         2   \n",
              "3                     automated software engineering         2   \n",
              "5          predictive models in software engineering         2   \n",
              "6                     automated software engineering         2   \n",
              "\n",
              "                      publisher  \\\n",
              "1  Springer, Berlin, Heidelberg   \n",
              "2                          IEEE   \n",
              "3                           ACM   \n",
              "5                           ACM   \n",
              "6                          IEEE   \n",
              "\n",
              "                                   source_and_target  \\\n",
              "1  [[2756399332, 2550155684], [2892664578, 255015...   \n",
              "2  [[2493648860, 2339699509], [2887990646, 233969...   \n",
              "3  [[2738182386, 2591882872], [2591882872, 253569...   \n",
              "5  [[2295378525, 1999564642], [2696458276, 176197...   \n",
              "6  [[2027204548, 2000400110], [2032558339, 200040...   \n",
              "\n",
              "                                                meta  \n",
              "1  {2892664578: {'organization': ['beijing labora...  \n",
              "2  {2803096453: {'organization': ['beihang univer...  \n",
              "3  {2884709376: {'organization': ['school of reli...  \n",
              "5  {2696458276: {'organization': ['department of ...  \n",
              "6  {2883977858: {'organization': ['george washing...  "
            ]
          },
          "metadata": {
            "tags": []
          },
          "execution_count": 8
        }
      ]
    },
    {
      "cell_type": "code",
      "metadata": {
        "id": "YvkL3hkh9i3l"
      },
      "source": [
        "snip = snip[snip['snip'].notna()]"
      ],
      "execution_count": null,
      "outputs": []
    },
    {
      "cell_type": "code",
      "metadata": {
        "id": "FmISizrz9i3m",
        "outputId": "cdcaafbb-a343-4bf6-99e7-e883a4f9b909"
      },
      "source": [
        "len(snip)"
      ],
      "execution_count": null,
      "outputs": [
        {
          "output_type": "execute_result",
          "data": {
            "text/plain": [
              "8"
            ]
          },
          "metadata": {
            "tags": []
          },
          "execution_count": 10
        }
      ]
    },
    {
      "cell_type": "code",
      "metadata": {
        "id": "g3woRwF99i3m"
      },
      "source": [
        "snip = snip[snip['hindex'].notna()]"
      ],
      "execution_count": null,
      "outputs": []
    },
    {
      "cell_type": "code",
      "metadata": {
        "id": "MZxlQ93N9i3n",
        "outputId": "c2cf77fb-9919-44c1-a0a6-de10fdbd83ad"
      },
      "source": [
        "len(snip)"
      ],
      "execution_count": null,
      "outputs": [
        {
          "output_type": "execute_result",
          "data": {
            "text/plain": [
              "8"
            ]
          },
          "metadata": {
            "tags": []
          },
          "execution_count": 12
        }
      ]
    },
    {
      "cell_type": "code",
      "metadata": {
        "id": "qNpt5A5d9i3o"
      },
      "source": [
        "h_index = h_index[h_index['hindex'].notna()]"
      ],
      "execution_count": null,
      "outputs": []
    },
    {
      "cell_type": "code",
      "metadata": {
        "id": "CsIQTnG59i3o"
      },
      "source": [
        "h_index = h_index.drop('snip',axis = 1)"
      ],
      "execution_count": null,
      "outputs": []
    },
    {
      "cell_type": "code",
      "metadata": {
        "id": "JNqRDAHf9i3p",
        "outputId": "7cd9011a-46e3-493f-dff7-79de490d939d"
      },
      "source": [
        "len(h_index)"
      ],
      "execution_count": null,
      "outputs": [
        {
          "output_type": "execute_result",
          "data": {
            "text/plain": [
              "8"
            ]
          },
          "metadata": {
            "tags": []
          },
          "execution_count": 190
        }
      ]
    },
    {
      "cell_type": "code",
      "metadata": {
        "id": "MQPTEJaX9i3p"
      },
      "source": [
        "snip.to_csv(\"C:/Users/Anisha Khetan/Desktop/DATASET_NEW/With Snip/Data/wv_snip.csv\")\n",
        "h_index.to_csv(\"C:/Users/Anisha Khetan/Desktop/DATASET_NEW/With Snip/Data/wv_hindex.csv\")"
      ],
      "execution_count": null,
      "outputs": []
    },
    {
      "cell_type": "markdown",
      "metadata": {
        "id": "mE_jPENf9i3q"
      },
      "source": [
        "## Make data into one file"
      ]
    },
    {
      "cell_type": "code",
      "metadata": {
        "id": "tpNZwpV39i3r"
      },
      "source": [
        "d1 = pd.read_csv('C:/Users/Anisha Khetan/Desktop/DATASET_NEW/With Snip/Data/brook_snip.csv')\n",
        "d2 = pd.read_csv('C:/Users/Anisha Khetan/Desktop/DATASET_NEW/With Snip/Data/carolina_snip.csv')\n",
        "d3 = pd.read_csv('C:/Users/Anisha Khetan/Desktop/DATASET_NEW/With Snip/Data/clemson_snip.csv')\n",
        "d4 = pd.read_csv('C:/Users/Anisha Khetan/Desktop/DATASET_NEW/With Snip/Data/colorodo_snip.csv')\n",
        "d5 = pd.read_csv('C:/Users/Anisha Khetan/Desktop/DATASET_NEW/With Snip/Data/dakota_snip.csv')\n",
        "d6 = pd.read_csv('C:/Users/Anisha Khetan/Desktop/DATASET_NEW/With Snip/Data/mexico_snip.csv')\n",
        "d7 = pd.read_csv('C:/Users/Anisha Khetan/Desktop/DATASET_NEW/With Snip/Data/missouri_snip.csv')\n",
        "d8 = pd.read_csv('C:/Users/Anisha Khetan/Desktop/DATASET_NEW/With Snip/Data/nevada_snip.csv')\n",
        "d9 = pd.read_csv('C:/Users/Anisha Khetan/Desktop/DATASET_NEW/With Snip/Data/oregon_snip.csv')\n",
        "d10 = pd.read_csv('C:/Users/Anisha Khetan/Desktop/DATASET_NEW/With Snip/Data/temple_snip.csv')\n",
        "d11 = pd.read_csv('C:/Users/Anisha Khetan/Desktop/DATASET_NEW/With Snip/Data/vermont_snip.csv')\n",
        "d12 = pd.read_csv('C:/Users/Anisha Khetan/Desktop/DATASET_NEW/With Snip/Data/wv_snip.csv')"
      ],
      "execution_count": null,
      "outputs": []
    },
    {
      "cell_type": "code",
      "metadata": {
        "id": "1gpe2Irc9i3r"
      },
      "source": [
        "t = pd.concat([d1, d2,d3,d4,d5,d6,d7,d8,d9,d10,d11,d12], ignore_index=True, sort=True) ## make them into one file"
      ],
      "execution_count": null,
      "outputs": []
    },
    {
      "cell_type": "code",
      "metadata": {
        "id": "PzDut1_w9i3s"
      },
      "source": [
        "t = t.drop('Unnamed: 0',axis = 1)\n",
        "t = t.drop('Unnamed: 10',axis = 1)"
      ],
      "execution_count": null,
      "outputs": []
    },
    {
      "cell_type": "code",
      "metadata": {
        "id": "sL_04rxd9i3t",
        "outputId": "d17e09df-2c2a-4d47-bc37-357b03d9739e"
      },
      "source": [
        "t.columns"
      ],
      "execution_count": null,
      "outputs": [
        {
          "output_type": "execute_result",
          "data": {
            "text/plain": [
              "Index([u'doc_type', u'fos', u'hindex', u'id', u'meta', u'organization',\n",
              "       u'publisher', u'references', u'snip', u'source_and_target', u'title',\n",
              "       u'venue', u'year'],\n",
              "      dtype='object')"
            ]
          },
          "metadata": {
            "tags": []
          },
          "execution_count": 196
        }
      ]
    },
    {
      "cell_type": "code",
      "metadata": {
        "id": "XGtWLX6-9i3t"
      },
      "source": [
        "t1 = t[['doc_type', 'fos', 'hindex', 'id', 'meta',\n",
        "       'organization', 'publisher', 'references',\n",
        "       'source_and_target', 'title', 'venue', 'year']] ## journal with h_index\n",
        "t2 = t[['doc_type', 'fos', 'snip', 'id', 'meta',\n",
        "       'organization', 'publisher', 'references',\n",
        "       'source_and_target', 'title', 'venue', 'year']] ## journal with only snip values"
      ],
      "execution_count": null,
      "outputs": []
    },
    {
      "cell_type": "code",
      "metadata": {
        "id": "IoEGFAHq9i3u"
      },
      "source": [
        "t1.to_csv(\"journalwithh_index.csv\")\n",
        "t2.to_csv(\"journalwithsnip.csv\")"
      ],
      "execution_count": null,
      "outputs": []
    },
    {
      "cell_type": "code",
      "metadata": {
        "id": "E98oqbGW9i3u"
      },
      "source": [
        "d1 = pd.read_csv('C:/Users/Anisha Khetan/Desktop/DATASET_NEW/With Snip/Data/brook_hindex.csv')\n",
        "d2 = pd.read_csv('C:/Users/Anisha Khetan/Desktop/DATASET_NEW/With Snip/Data/carolina_hindex.csv')\n",
        "d3 = pd.read_csv('C:/Users/Anisha Khetan/Desktop/DATASET_NEW/With Snip/Data/clemson_hindex.csv')\n",
        "d4 = pd.read_csv('C:/Users/Anisha Khetan/Desktop/DATASET_NEW/With Snip/Data/colorodo_hindex.csv')\n",
        "d5 = pd.read_csv('C:/Users/Anisha Khetan/Desktop/DATASET_NEW/With Snip/Data/dakota_hindex.csv')\n",
        "d6 = pd.read_csv('C:/Users/Anisha Khetan/Desktop/DATASET_NEW/With Snip/Data/mexico_hindex.csv')\n",
        "d7 = pd.read_csv('C:/Users/Anisha Khetan/Desktop/DATASET_NEW/With Snip/Data/missouri_hindex.csv')\n",
        "d8 = pd.read_csv('C:/Users/Anisha Khetan/Desktop/DATASET_NEW/With Snip/Data/nevada_hindex.csv')\n",
        "d9 = pd.read_csv('C:/Users/Anisha Khetan/Desktop/DATASET_NEW/With Snip/Data/oregon_hindex.csv')\n",
        "d10 = pd.read_csv('C:/Users/Anisha Khetan/Desktop/DATASET_NEW/With Snip/Data/temple_hindex.csv')\n",
        "d11 = pd.read_csv('C:/Users/Anisha Khetan/Desktop/DATASET_NEW/With Snip/Data/vermont_hindex.csv')\n",
        "d12 = pd.read_csv('C:/Users/Anisha Khetan/Desktop/DATASET_NEW/With Snip/Data/wv_hindex.csv')"
      ],
      "execution_count": null,
      "outputs": []
    },
    {
      "cell_type": "code",
      "metadata": {
        "id": "mdbQC-N59i3v"
      },
      "source": [
        "p = pd.concat([d1, d2,d3,d4,d5,d6,d7,d8,d9,d10,d11,d12], ignore_index=True, sort=True) ## make them into one file"
      ],
      "execution_count": null,
      "outputs": []
    },
    {
      "cell_type": "code",
      "metadata": {
        "id": "qJHkUfDc9i3v",
        "outputId": "f1718f03-c579-4b76-bbdd-dcfcdb46ca19"
      },
      "source": [
        "len(p)"
      ],
      "execution_count": null,
      "outputs": [
        {
          "output_type": "execute_result",
          "data": {
            "text/plain": [
              "126"
            ]
          },
          "metadata": {
            "tags": []
          },
          "execution_count": 202
        }
      ]
    },
    {
      "cell_type": "code",
      "metadata": {
        "id": "jUSk0Fna9i3w"
      },
      "source": [
        "p.to_csv(\"h_c.csv\")"
      ],
      "execution_count": null,
      "outputs": []
    },
    {
      "cell_type": "code",
      "metadata": {
        "id": "LQ6pgQWE9i3x",
        "outputId": "d14bb163-465d-48c2-87dd-ce93cbc3eeb7"
      },
      "source": [
        "len(t1)"
      ],
      "execution_count": null,
      "outputs": [
        {
          "output_type": "execute_result",
          "data": {
            "text/plain": [
              "75"
            ]
          },
          "metadata": {
            "tags": []
          },
          "execution_count": 204
        }
      ]
    },
    {
      "cell_type": "code",
      "metadata": {
        "id": "N0quW8zI9i3y",
        "outputId": "e8b01440-2ead-4901-8d86-1cf49d4727b1"
      },
      "source": [
        "len(t2)"
      ],
      "execution_count": null,
      "outputs": [
        {
          "output_type": "execute_result",
          "data": {
            "text/plain": [
              "75"
            ]
          },
          "metadata": {
            "tags": []
          },
          "execution_count": 205
        }
      ]
    },
    {
      "cell_type": "code",
      "metadata": {
        "id": "vxL60Unk9i3y"
      },
      "source": [
        "t1.to_csv(\"C:/Users/Anisha Khetan/Desktop/DATASET_NEW/With Snip/h_j.csv\")\n",
        "t2.to_csv(\"C:/Users/Anisha Khetan/Desktop/DATASET_NEW/With Snip/s_j.csv\")\n",
        "p.to_csv(\"C:/Users/Anisha Khetan/Desktop/DATASET_NEW/With Snip/h_jc.csv\")"
      ],
      "execution_count": null,
      "outputs": []
    },
    {
      "cell_type": "code",
      "metadata": {
        "id": "n_SiSDds9i3z",
        "outputId": "55958f01-1c41-4c67-ea2b-e132b12302d3"
      },
      "source": [
        "p = pd.concat([d1, d2,d3,d4,d5,d6,d7,d8,d9,d10,d11,d12,t2], ignore_index=True, sort=True) ## need to normalise\n",
        "p.head()"
      ],
      "execution_count": null,
      "outputs": [
        {
          "output_type": "execute_result",
          "data": {
            "text/html": [
              "<div>\n",
              "<style scoped>\n",
              "    .dataframe tbody tr th:only-of-type {\n",
              "        vertical-align: middle;\n",
              "    }\n",
              "\n",
              "    .dataframe tbody tr th {\n",
              "        vertical-align: top;\n",
              "    }\n",
              "\n",
              "    .dataframe thead th {\n",
              "        text-align: right;\n",
              "    }\n",
              "</style>\n",
              "<table border=\"1\" class=\"dataframe\">\n",
              "  <thead>\n",
              "    <tr style=\"text-align: right;\">\n",
              "      <th></th>\n",
              "      <th>Unnamed: 0</th>\n",
              "      <th>Unnamed: 10</th>\n",
              "      <th>doc_type</th>\n",
              "      <th>fos</th>\n",
              "      <th>hindex</th>\n",
              "      <th>id</th>\n",
              "      <th>meta</th>\n",
              "      <th>organization</th>\n",
              "      <th>publisher</th>\n",
              "      <th>references</th>\n",
              "      <th>snip</th>\n",
              "      <th>source_and_target</th>\n",
              "      <th>title</th>\n",
              "      <th>venue</th>\n",
              "      <th>year</th>\n",
              "    </tr>\n",
              "  </thead>\n",
              "  <tbody>\n",
              "    <tr>\n",
              "      <th>0</th>\n",
              "      <td>0.0</td>\n",
              "      <td>NaN</td>\n",
              "      <td>2</td>\n",
              "      <td>['clustering high-dimensional data', 'cluster ...</td>\n",
              "      <td>20.0</td>\n",
              "      <td>1655843738</td>\n",
              "      <td>{2548764674: {'organization': ['school of comp...</td>\n",
              "      <td>['carnegie mellon university', 'stony brook un...</td>\n",
              "      <td>IEEE</td>\n",
              "      <td>[1532325895, 1538524459, 1974843168, 199214653...</td>\n",
              "      <td>NaN</td>\n",
              "      <td>[[2755651563, 2286519464], [2889180382, 228651...</td>\n",
              "      <td>Do more views of a graph help? Community detec...</td>\n",
              "      <td>international conference on information fusion</td>\n",
              "      <td>2013</td>\n",
              "    </tr>\n",
              "    <tr>\n",
              "      <th>1</th>\n",
              "      <td>1.0</td>\n",
              "      <td>NaN</td>\n",
              "      <td>2</td>\n",
              "      <td>['discriminative model', 'machine learning', '...</td>\n",
              "      <td>48.0</td>\n",
              "      <td>1934716492</td>\n",
              "      <td>{2201554756: {'organization': ['centralesup�le...</td>\n",
              "      <td>['center for visual computing, �cole centrale ...</td>\n",
              "      <td>Springer</td>\n",
              "      <td>[151109738, 202579453, 1995571867, 2014848045,...</td>\n",
              "      <td>NaN</td>\n",
              "      <td>[[2201554756, 1934716492]]</td>\n",
              "      <td>fMRI Analysis with Sparse Weisfeiler-Lehman Gr...</td>\n",
              "      <td>international conference on machine learning</td>\n",
              "      <td>2013</td>\n",
              "    </tr>\n",
              "    <tr>\n",
              "      <th>2</th>\n",
              "      <td>3.0</td>\n",
              "      <td>NaN</td>\n",
              "      <td>2</td>\n",
              "      <td>['data mining', 'machine learning', 'network s...</td>\n",
              "      <td>88.0</td>\n",
              "      <td>1973556323</td>\n",
              "      <td>{2514861569: {'organization': ['institute of i...</td>\n",
              "      <td>['tsinghuauniversity, beijing, china', 'stony ...</td>\n",
              "      <td>ACM</td>\n",
              "      <td>[1513623122, 1520914943, 1556918572, 165595839...</td>\n",
              "      <td>NaN</td>\n",
              "      <td>[[1524091188, 1973556323], [2790835580, 275181...</td>\n",
              "      <td>Evolution of social-attribute networks: measur...</td>\n",
              "      <td>internet measurement conference</td>\n",
              "      <td>2012</td>\n",
              "    </tr>\n",
              "    <tr>\n",
              "      <th>3</th>\n",
              "      <td>4.0</td>\n",
              "      <td>NaN</td>\n",
              "      <td>2</td>\n",
              "      <td>['computer vision', 'word error rate', 'hierar...</td>\n",
              "      <td>309.0</td>\n",
              "      <td>1974907760</td>\n",
              "      <td>{2788491273: {'organization': ['german cancer ...</td>\n",
              "      <td>['stanford university', 'stanford university',...</td>\n",
              "      <td>IEEE</td>\n",
              "      <td>[142463596, 1606858007, 1851597118, 1865725639...</td>\n",
              "      <td>NaN</td>\n",
              "      <td>[[2756399332, 2462459612], [2462459612, 218063...</td>\n",
              "      <td>Hedging your bets: Optimizing accuracy-specifi...</td>\n",
              "      <td>computer vision and pattern recognition</td>\n",
              "      <td>2012</td>\n",
              "    </tr>\n",
              "    <tr>\n",
              "      <th>4</th>\n",
              "      <td>5.0</td>\n",
              "      <td>NaN</td>\n",
              "      <td>2</td>\n",
              "      <td>['normalization (statistics)', 'support vector...</td>\n",
              "      <td>111.0</td>\n",
              "      <td>2017215520</td>\n",
              "      <td>{2789468576: {'organization': ['school of elec...</td>\n",
              "      <td>['stony brook university', 'stony brook univer...</td>\n",
              "      <td>ACM</td>\n",
              "      <td>[72187777, 167016754, 2003661472, 2008835805, ...</td>\n",
              "      <td>NaN</td>\n",
              "      <td>[[2897470545, 2744581883], [2744581883, 241805...</td>\n",
              "      <td>Cost-sensitive learning for large-scale hierar...</td>\n",
              "      <td>conference on information and knowledge manage...</td>\n",
              "      <td>2013</td>\n",
              "    </tr>\n",
              "  </tbody>\n",
              "</table>\n",
              "</div>"
            ],
            "text/plain": [
              "   Unnamed: 0  Unnamed: 10  doc_type  \\\n",
              "0         0.0          NaN         2   \n",
              "1         1.0          NaN         2   \n",
              "2         3.0          NaN         2   \n",
              "3         4.0          NaN         2   \n",
              "4         5.0          NaN         2   \n",
              "\n",
              "                                                 fos  hindex          id  \\\n",
              "0  ['clustering high-dimensional data', 'cluster ...    20.0  1655843738   \n",
              "1  ['discriminative model', 'machine learning', '...    48.0  1934716492   \n",
              "2  ['data mining', 'machine learning', 'network s...    88.0  1973556323   \n",
              "3  ['computer vision', 'word error rate', 'hierar...   309.0  1974907760   \n",
              "4  ['normalization (statistics)', 'support vector...   111.0  2017215520   \n",
              "\n",
              "                                                meta  \\\n",
              "0  {2548764674: {'organization': ['school of comp...   \n",
              "1  {2201554756: {'organization': ['centralesup�le...   \n",
              "2  {2514861569: {'organization': ['institute of i...   \n",
              "3  {2788491273: {'organization': ['german cancer ...   \n",
              "4  {2789468576: {'organization': ['school of elec...   \n",
              "\n",
              "                                        organization publisher  \\\n",
              "0  ['carnegie mellon university', 'stony brook un...      IEEE   \n",
              "1  ['center for visual computing, �cole centrale ...  Springer   \n",
              "2  ['tsinghuauniversity, beijing, china', 'stony ...       ACM   \n",
              "3  ['stanford university', 'stanford university',...      IEEE   \n",
              "4  ['stony brook university', 'stony brook univer...       ACM   \n",
              "\n",
              "                                          references  snip  \\\n",
              "0  [1532325895, 1538524459, 1974843168, 199214653...   NaN   \n",
              "1  [151109738, 202579453, 1995571867, 2014848045,...   NaN   \n",
              "2  [1513623122, 1520914943, 1556918572, 165595839...   NaN   \n",
              "3  [142463596, 1606858007, 1851597118, 1865725639...   NaN   \n",
              "4  [72187777, 167016754, 2003661472, 2008835805, ...   NaN   \n",
              "\n",
              "                                   source_and_target  \\\n",
              "0  [[2755651563, 2286519464], [2889180382, 228651...   \n",
              "1                         [[2201554756, 1934716492]]   \n",
              "2  [[1524091188, 1973556323], [2790835580, 275181...   \n",
              "3  [[2756399332, 2462459612], [2462459612, 218063...   \n",
              "4  [[2897470545, 2744581883], [2744581883, 241805...   \n",
              "\n",
              "                                               title  \\\n",
              "0  Do more views of a graph help? Community detec...   \n",
              "1  fMRI Analysis with Sparse Weisfeiler-Lehman Gr...   \n",
              "2  Evolution of social-attribute networks: measur...   \n",
              "3  Hedging your bets: Optimizing accuracy-specifi...   \n",
              "4  Cost-sensitive learning for large-scale hierar...   \n",
              "\n",
              "                                               venue  year  \n",
              "0     international conference on information fusion  2013  \n",
              "1       international conference on machine learning  2013  \n",
              "2                    internet measurement conference  2012  \n",
              "3            computer vision and pattern recognition  2012  \n",
              "4  conference on information and knowledge manage...  2013  "
            ]
          },
          "metadata": {
            "tags": []
          },
          "execution_count": 206
        }
      ]
    },
    {
      "cell_type": "code",
      "metadata": {
        "id": "JadkVDG-9i3z"
      },
      "source": [
        "p = p.drop('Unnamed: 10',axis = 1)\n",
        "p = p.drop('Unnamed: 0',axis = 1)"
      ],
      "execution_count": null,
      "outputs": []
    },
    {
      "cell_type": "code",
      "metadata": {
        "id": "gSg6d_H39i30"
      },
      "source": [
        "p.to_csv(\"Norm.csv\")"
      ],
      "execution_count": null,
      "outputs": []
    },
    {
      "cell_type": "code",
      "metadata": {
        "id": "18Omdpd69i30"
      },
      "source": [
        "a = pd.read_csv(\"Norm.csv\")"
      ],
      "execution_count": null,
      "outputs": []
    },
    {
      "cell_type": "code",
      "metadata": {
        "id": "z68AB5e79i30"
      },
      "source": [
        "snip = a[a['doc_type'] == 1.0]\n",
        "h_index = a[a['doc_type'] == 2.0]"
      ],
      "execution_count": null,
      "outputs": []
    },
    {
      "cell_type": "code",
      "metadata": {
        "id": "SKfhKUoA9i31"
      },
      "source": [
        "snip_max = snip['hindex/snip'].max()\n",
        "h_index_max = h_index['hindex/snip'].max()\n",
        "snip_min = snip['hindex/snip'].min()\n",
        "h_index_min = h_index['hindex/snip'].min()\n",
        "import numpy as np"
      ],
      "execution_count": null,
      "outputs": []
    },
    {
      "cell_type": "code",
      "metadata": {
        "id": "9PXlASRz9i31",
        "outputId": "96e2c7ca-64ec-4088-8d3a-a95aa56b226d"
      },
      "source": [
        "h_index['hindex/snip'].describe()"
      ],
      "execution_count": null,
      "outputs": [
        {
          "output_type": "execute_result",
          "data": {
            "text/plain": [
              "count    126.000000\n",
              "mean      75.738095\n",
              "std       82.089237\n",
              "min        3.000000\n",
              "25%       21.000000\n",
              "50%       39.500000\n",
              "75%      108.000000\n",
              "max      309.000000\n",
              "Name: hindex/snip, dtype: float64"
            ]
          },
          "metadata": {
            "tags": []
          },
          "execution_count": 217
        }
      ]
    },
    {
      "cell_type": "code",
      "metadata": {
        "id": "jhIq6wN79i32",
        "outputId": "5421d5d3-d821-4d4d-fac9-3ae21515cc77"
      },
      "source": [
        "snip['hindex/snip'] = ( (snip['hindex/snip'] - snip_min) / (snip_max - snip_min) ) * (356.0 - 1.0) + 1.0\n",
        "h_index['hindex/snip'] = ( (h_index['hindex/snip'] - h_index_min) / (h_index_max - h_index_min) ) * (356.0 - 1.0) + 1.0\n",
        "## normalise the values by using \n",
        "## new\\_value = ( (old\\_value - old\\_min) / (old\\_max - old\\_min) ) * (new\\_max - new\\_min) + new\\_min"
      ],
      "execution_count": null,
      "outputs": [
        {
          "output_type": "stream",
          "text": [
            "C:\\ProgramData\\Anaconda2\\lib\\site-packages\\ipykernel_launcher.py:1: SettingWithCopyWarning: \n",
            "A value is trying to be set on a copy of a slice from a DataFrame.\n",
            "Try using .loc[row_indexer,col_indexer] = value instead\n",
            "\n",
            "See the caveats in the documentation: http://pandas.pydata.org/pandas-docs/stable/indexing.html#indexing-view-versus-copy\n",
            "  \"\"\"Entry point for launching an IPython kernel.\n",
            "C:\\ProgramData\\Anaconda2\\lib\\site-packages\\ipykernel_launcher.py:2: SettingWithCopyWarning: \n",
            "A value is trying to be set on a copy of a slice from a DataFrame.\n",
            "Try using .loc[row_indexer,col_indexer] = value instead\n",
            "\n",
            "See the caveats in the documentation: http://pandas.pydata.org/pandas-docs/stable/indexing.html#indexing-view-versus-copy\n",
            "  \n"
          ],
          "name": "stderr"
        }
      ]
    },
    {
      "cell_type": "code",
      "metadata": {
        "id": "Eick0Jy99i32"
      },
      "source": [
        "tog = pd.concat([snip,h_index], ignore_index=True, sort=True)"
      ],
      "execution_count": null,
      "outputs": []
    },
    {
      "cell_type": "code",
      "metadata": {
        "id": "a9Uf9UFc9i33",
        "outputId": "6a9bbc0b-ca5d-492d-edda-cacd7a7cd591"
      },
      "source": [
        "tog['hindex/snip'].describe()"
      ],
      "execution_count": null,
      "outputs": [
        {
          "output_type": "execute_result",
          "data": {
            "text/plain": [
              "count    201.000000\n",
              "mean      91.985497\n",
              "std       92.840300\n",
              "min        1.000000\n",
              "25%       26.522876\n",
              "50%       62.486928\n",
              "75%      129.774510\n",
              "max      356.000000\n",
              "Name: hindex/snip, dtype: float64"
            ]
          },
          "metadata": {
            "tags": []
          },
          "execution_count": 220
        }
      ]
    },
    {
      "cell_type": "code",
      "metadata": {
        "id": "tl5nPmXX9i33",
        "outputId": "7327ac88-5afd-46d1-a41b-2f262b7b50da"
      },
      "source": [
        "tog.head()"
      ],
      "execution_count": null,
      "outputs": [
        {
          "output_type": "execute_result",
          "data": {
            "text/html": [
              "<div>\n",
              "<style scoped>\n",
              "    .dataframe tbody tr th:only-of-type {\n",
              "        vertical-align: middle;\n",
              "    }\n",
              "\n",
              "    .dataframe tbody tr th {\n",
              "        vertical-align: top;\n",
              "    }\n",
              "\n",
              "    .dataframe thead th {\n",
              "        text-align: right;\n",
              "    }\n",
              "</style>\n",
              "<table border=\"1\" class=\"dataframe\">\n",
              "  <thead>\n",
              "    <tr style=\"text-align: right;\">\n",
              "      <th></th>\n",
              "      <th>Unnamed: 0</th>\n",
              "      <th>doc_type</th>\n",
              "      <th>fos</th>\n",
              "      <th>hindex/snip</th>\n",
              "      <th>id</th>\n",
              "      <th>meta</th>\n",
              "      <th>organization</th>\n",
              "      <th>publisher</th>\n",
              "      <th>references</th>\n",
              "      <th>source_and_target</th>\n",
              "      <th>title</th>\n",
              "      <th>venue</th>\n",
              "      <th>year</th>\n",
              "    </tr>\n",
              "  </thead>\n",
              "  <tbody>\n",
              "    <tr>\n",
              "      <th>0</th>\n",
              "      <td>126</td>\n",
              "      <td>1</td>\n",
              "      <td>['computer vision', 'image segmentation', 'nat...</td>\n",
              "      <td>335.144909</td>\n",
              "      <td>1969616664</td>\n",
              "      <td>{2562555919: {'organization': ['national unive...</td>\n",
              "      <td>['stony brook university', 'stony brook univer...</td>\n",
              "      <td>IEEE Computer Society</td>\n",
              "      <td>[1528802670, 1584193343, 1601567445, 168784646...</td>\n",
              "      <td>[[2437478628, 2328078142], [2511548893, 232807...</td>\n",
              "      <td>BabyTalk: Understanding and Generating Simple ...</td>\n",
              "      <td>IEEE Transactions on Pattern Analysis and Mach...</td>\n",
              "      <td>2013</td>\n",
              "    </tr>\n",
              "    <tr>\n",
              "      <th>1</th>\n",
              "      <td>127</td>\n",
              "      <td>1</td>\n",
              "      <td>['statistical classification', 'theoretical co...</td>\n",
              "      <td>178.036554</td>\n",
              "      <td>2050386482</td>\n",
              "      <td>{2126544388: {'organization': ['dept. of elect...</td>\n",
              "      <td>['institute of telecommun., vienna university ...</td>\n",
              "      <td>IEEE</td>\n",
              "      <td>[105338397, 1483758791, 1634279436, 1751228448...</td>\n",
              "      <td>[[2725938612, 2510844205], [2510844205, 151358...</td>\n",
              "      <td>Distributed particle filtering in agent networ...</td>\n",
              "      <td>NaN</td>\n",
              "      <td>2013</td>\n",
              "    </tr>\n",
              "    <tr>\n",
              "      <th>2</th>\n",
              "      <td>128</td>\n",
              "      <td>1</td>\n",
              "      <td>['support vector machine', 'cluster analysis',...</td>\n",
              "      <td>35.758486</td>\n",
              "      <td>2077494984</td>\n",
              "      <td>{2745134596: {'organization': ['department of ...</td>\n",
              "      <td>['stony brook university', 'university of hels...</td>\n",
              "      <td>Pergamon Press, Inc.</td>\n",
              "      <td>[1494289067, 1555648035, 1777939696, 179095494...</td>\n",
              "      <td>[[2075568737, 2007979335], [2293377724, 200797...</td>\n",
              "      <td>Live and learn from mistakes: A lightweight sy...</td>\n",
              "      <td>Information Processing and Management</td>\n",
              "      <td>2013</td>\n",
              "    </tr>\n",
              "    <tr>\n",
              "      <th>3</th>\n",
              "      <td>129</td>\n",
              "      <td>1</td>\n",
              "      <td>['tropism', 'machine learning', 'phenomenologi...</td>\n",
              "      <td>15.830287</td>\n",
              "      <td>2101273298</td>\n",
              "      <td>{2895331146: {'organization': ['virginia commo...</td>\n",
              "      <td>['stony brook university', ',  hebrew universi...</td>\n",
              "      <td>Frontiers Media SA</td>\n",
              "      <td>[1971689790, 2029408292, 2073985768, 207570475...</td>\n",
              "      <td>[[1904086895, 2101273298], [2138674902, 210127...</td>\n",
              "      <td>Self-referential forces are sufficient to expl...</td>\n",
              "      <td>Frontiers in Neuroinformatics</td>\n",
              "      <td>2013</td>\n",
              "    </tr>\n",
              "    <tr>\n",
              "      <th>4</th>\n",
              "      <td>130</td>\n",
              "      <td>1</td>\n",
              "      <td>['data mining', 'machine learning', 'artificia...</td>\n",
              "      <td>1.000000</td>\n",
              "      <td>2123372882</td>\n",
              "      <td>{2803549185: {'organization': ['marmara univer...</td>\n",
              "      <td>['fzi research center for information technolo...</td>\n",
              "      <td>Taylor &amp; Francis Group</td>\n",
              "      <td>[44713956, 76044956, 1507455930, 1542433116, 1...</td>\n",
              "      <td>[[2213728383, 1500684598], [2736057823, 262690...</td>\n",
              "      <td>REAL-TIME COMPLEX EVENT RECOGNITION AND REASON...</td>\n",
              "      <td>Applied Artificial Intelligence</td>\n",
              "      <td>2012</td>\n",
              "    </tr>\n",
              "  </tbody>\n",
              "</table>\n",
              "</div>"
            ],
            "text/plain": [
              "   Unnamed: 0  doc_type                                                fos  \\\n",
              "0         126         1  ['computer vision', 'image segmentation', 'nat...   \n",
              "1         127         1  ['statistical classification', 'theoretical co...   \n",
              "2         128         1  ['support vector machine', 'cluster analysis',...   \n",
              "3         129         1  ['tropism', 'machine learning', 'phenomenologi...   \n",
              "4         130         1  ['data mining', 'machine learning', 'artificia...   \n",
              "\n",
              "   hindex/snip          id                                               meta  \\\n",
              "0   335.144909  1969616664  {2562555919: {'organization': ['national unive...   \n",
              "1   178.036554  2050386482  {2126544388: {'organization': ['dept. of elect...   \n",
              "2    35.758486  2077494984  {2745134596: {'organization': ['department of ...   \n",
              "3    15.830287  2101273298  {2895331146: {'organization': ['virginia commo...   \n",
              "4     1.000000  2123372882  {2803549185: {'organization': ['marmara univer...   \n",
              "\n",
              "                                        organization               publisher  \\\n",
              "0  ['stony brook university', 'stony brook univer...   IEEE Computer Society   \n",
              "1  ['institute of telecommun., vienna university ...                    IEEE   \n",
              "2  ['stony brook university', 'university of hels...    Pergamon Press, Inc.   \n",
              "3  ['stony brook university', ',  hebrew universi...      Frontiers Media SA   \n",
              "4  ['fzi research center for information technolo...  Taylor & Francis Group   \n",
              "\n",
              "                                          references  \\\n",
              "0  [1528802670, 1584193343, 1601567445, 168784646...   \n",
              "1  [105338397, 1483758791, 1634279436, 1751228448...   \n",
              "2  [1494289067, 1555648035, 1777939696, 179095494...   \n",
              "3  [1971689790, 2029408292, 2073985768, 207570475...   \n",
              "4  [44713956, 76044956, 1507455930, 1542433116, 1...   \n",
              "\n",
              "                                   source_and_target  \\\n",
              "0  [[2437478628, 2328078142], [2511548893, 232807...   \n",
              "1  [[2725938612, 2510844205], [2510844205, 151358...   \n",
              "2  [[2075568737, 2007979335], [2293377724, 200797...   \n",
              "3  [[1904086895, 2101273298], [2138674902, 210127...   \n",
              "4  [[2213728383, 1500684598], [2736057823, 262690...   \n",
              "\n",
              "                                               title  \\\n",
              "0  BabyTalk: Understanding and Generating Simple ...   \n",
              "1  Distributed particle filtering in agent networ...   \n",
              "2  Live and learn from mistakes: A lightweight sy...   \n",
              "3  Self-referential forces are sufficient to expl...   \n",
              "4  REAL-TIME COMPLEX EVENT RECOGNITION AND REASON...   \n",
              "\n",
              "                                               venue  year  \n",
              "0  IEEE Transactions on Pattern Analysis and Mach...  2013  \n",
              "1                                                NaN  2013  \n",
              "2              Information Processing and Management  2013  \n",
              "3                      Frontiers in Neuroinformatics  2013  \n",
              "4                    Applied Artificial Intelligence  2012  "
            ]
          },
          "metadata": {
            "tags": []
          },
          "execution_count": 221
        }
      ]
    },
    {
      "cell_type": "code",
      "metadata": {
        "id": "ugb2AxBS9i34"
      },
      "source": [
        "tog['hindex/snip'] = (tog['hindex/snip'] - 0)/356.0"
      ],
      "execution_count": null,
      "outputs": []
    },
    {
      "cell_type": "code",
      "metadata": {
        "id": "VbFH_So-9i34"
      },
      "source": [
        "tog.to_csv(\"Norm.csv\")"
      ],
      "execution_count": null,
      "outputs": []
    }
  ]
}